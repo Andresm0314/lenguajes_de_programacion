{
  "nbformat": 4,
  "nbformat_minor": 0,
  "metadata": {
    "colab": {
      "provenance": []
    },
    "kernelspec": {
      "name": "python3",
      "display_name": "Python 3"
    },
    "language_info": {
      "name": "python"
    }
  },
  "cells": [
    {
      "cell_type": "markdown",
      "source": [
        "# Taller Evaluativo (20%) - Gestión de Portafolios Financieros\n",
        "\n",
        "## Parte 1: Declaración de Variables y Listas\n",
        "\n",
        "###Datos de Inversión Inicial\n",
        "La empresa ha recopilado los siguientes datos sobre cuatro clientes:\n",
        "\n",
        "- Clientes: Juan Perez, Maria Rodriguez, Carlos Lopez, Ana Gomez\n",
        "- Montos invertidos (en dólares): 10000, 15000, 20000, 18000\n",
        "- Rendimientos anuales (%): 5.5, 6.0, 4.0, 7.5"
      ],
      "metadata": {
        "id": "FPh0hueG6rag"
      }
    },
    {
      "cell_type": "code",
      "source": [
        "clientes = [\"Juan Perez\", \"Maria Rodriguez\", \"Carlos Lopez\", \"Ana Gomez\"]\n",
        "montos_invertidos = [10000, 15000, 20000, 18000]\n",
        "rendimientos = [5.5, 6.0, 4.0, 7.5]\n",
        "\n",
        "print(\"Tipo de 'clientes':\", type(clientes))\n",
        "print(\"Tipo de 'montos_invertidos':\", type(montos_invertidos))\n",
        "print(\"Tipo de 'rendimientos':\", type(rendimientos))\n",
        "\n"
      ],
      "metadata": {
        "colab": {
          "base_uri": "https://localhost:8080/"
        },
        "id": "lzaSPWFR7FXr",
        "outputId": "cbdce2a8-a219-4d6a-e360-8bb4eba35ba8"
      },
      "execution_count": 96,
      "outputs": [
        {
          "output_type": "stream",
          "name": "stdout",
          "text": [
            "Tipo de 'clientes': <class 'list'>\n",
            "Tipo de 'montos_invertidos': <class 'list'>\n",
            "Tipo de 'rendimientos': <class 'list'>\n"
          ]
        }
      ]
    },
    {
      "cell_type": "markdown",
      "source": [
        "###Crear Tuplas para Almacenar la Información\n",
        "Crea una tupla para cada cliente que contenga su nombre, monto invertido y rendimiento."
      ],
      "metadata": {
        "id": "Q3YpZnVp8N1E"
      }
    },
    {
      "cell_type": "code",
      "source": [
        "cliente_1 = (\"Juan Perez\", 10000, 5.5)\n",
        "cliente_2 = (\"Maria Rodriguez\", 15000, 6.0)\n",
        "cliente_3 = (\"Carlos Lopez\", 20000, 4.0)\n",
        "cliente_4 = (\"Ana Gomez\", 18000, 7.5)\n",
        "\n",
        "print(\"Cliente 1:\", cliente_1)\n",
        "print(\"Cliente 2:\", cliente_2)\n",
        "print(\"Cliente 3:\", cliente_3)\n",
        "print(\"Cliente 4:\", cliente_4)\n",
        "\n",
        "print(\"\\nTipo de 'cliente_1':\", type(cliente_1))\n",
        "print(\"Tipo de 'cliente_2':\", type(cliente_2))\n",
        "print(\"Tipo de 'cliente_3':\", type(cliente_3))\n",
        "print(\"Tipo de 'cliente_4':\", type(cliente_4))"
      ],
      "metadata": {
        "colab": {
          "base_uri": "https://localhost:8080/"
        },
        "id": "063csOuc8bzt",
        "outputId": "c6e1b6d2-2fdc-4118-e09b-b7cef369c470"
      },
      "execution_count": 97,
      "outputs": [
        {
          "output_type": "stream",
          "name": "stdout",
          "text": [
            "Cliente 1: ('Juan Perez', 10000, 5.5)\n",
            "Cliente 2: ('Maria Rodriguez', 15000, 6.0)\n",
            "Cliente 3: ('Carlos Lopez', 20000, 4.0)\n",
            "Cliente 4: ('Ana Gomez', 18000, 7.5)\n",
            "\n",
            "Tipo de 'cliente_1': <class 'tuple'>\n",
            "Tipo de 'cliente_2': <class 'tuple'>\n",
            "Tipo de 'cliente_3': <class 'tuple'>\n",
            "Tipo de 'cliente_4': <class 'tuple'>\n"
          ]
        }
      ]
    },
    {
      "cell_type": "markdown",
      "source": [
        "## Parte 2: Uso de Diccionarios y Condicionales\n",
        "\n",
        "###Almacenar los Datos en un Diccionario\n",
        "Almacena los datos de los clientes en un diccionario llamado portafolio. En este diccionario, cada clave debe ser el nombre del cliente, y cada valor será un diccionario que contenga el monto_invertido y el rendimiento."
      ],
      "metadata": {
        "id": "0I1f_qSh9uGy"
      }
    },
    {
      "cell_type": "code",
      "source": [
        "from pprint import pprint\n",
        "\n",
        "portafolio = {\n",
        "    \"Juan Perez\": {\"monto_invertido\": 10000, \"rendimiento\": 5.5},\n",
        "    \"Maria Rodriguez\": {\"monto_invertido\": 15000, \"rendimiento\": 6.0},\n",
        "    \"Carlos Lopez\": {\"monto_invertido\": 20000, \"rendimiento\": 4.0},\n",
        "    \"Ana Gomez\": {\"monto_invertido\": 18000, \"rendimiento\": 7.5}\n",
        "}\n",
        "\n",
        "print(\"Portafolio de clientes:\")\n",
        "pprint(portafolio)\n"
      ],
      "metadata": {
        "colab": {
          "base_uri": "https://localhost:8080/"
        },
        "id": "hDYP7-te92ku",
        "outputId": "5ab2b738-736b-43d4-a5c4-6333a4f507fa"
      },
      "execution_count": 98,
      "outputs": [
        {
          "output_type": "stream",
          "name": "stdout",
          "text": [
            "Portafolio de clientes:\n",
            "{'Ana Gomez': {'monto_invertido': 18000, 'rendimiento': 7.5},\n",
            " 'Carlos Lopez': {'monto_invertido': 20000, 'rendimiento': 4.0},\n",
            " 'Juan Perez': {'monto_invertido': 10000, 'rendimiento': 5.5},\n",
            " 'Maria Rodriguez': {'monto_invertido': 15000, 'rendimiento': 6.0}}\n"
          ]
        }
      ]
    },
    {
      "cell_type": "markdown",
      "source": [
        "###Evaluación del Rendimiento de los Clientes\n",
        "La empresa quiere identificar qué clientes han tenido un rendimiento superior al 5%."
      ],
      "metadata": {
        "id": "NzYheRR5-vgv"
      }
    },
    {
      "cell_type": "code",
      "source": [
        "for cliente, datos in portafolio.items():\n",
        "\n",
        "    if datos[\"rendimiento\"] > 5:\n",
        "        print(f\"{cliente} tiene un rendimiento de {datos['rendimiento']}%\")\n"
      ],
      "metadata": {
        "colab": {
          "base_uri": "https://localhost:8080/"
        },
        "id": "w0VWNxhK-12m",
        "outputId": "60e4d798-2c46-405f-e36f-fcf1a09846ec"
      },
      "execution_count": 99,
      "outputs": [
        {
          "output_type": "stream",
          "name": "stdout",
          "text": [
            "Juan Perez tiene un rendimiento de 5.5%\n",
            "Maria Rodriguez tiene un rendimiento de 6.0%\n",
            "Ana Gomez tiene un rendimiento de 7.5%\n"
          ]
        }
      ]
    },
    {
      "cell_type": "markdown",
      "source": [
        "## Parte 3: Cálculos con Ciclos\n",
        "\n",
        "###Calcular el Rendimiento Total del Portafolio"
      ],
      "metadata": {
        "id": "tiLE8A_LALNK"
      }
    },
    {
      "cell_type": "code",
      "source": [
        "\n",
        "rendimiento_total = 0\n",
        "for cliente, datos in portafolio.items():\n",
        "    rendimiento_cliente = (datos[\"monto_invertido\"] * datos[\"rendimiento\"]) / 100\n",
        "\n",
        "    rendimiento_total += rendimiento_cliente\n",
        "\n",
        "print(f\"El rendimiento total del portafolio es: ${rendimiento_total:.0f}\")\n",
        "\n"
      ],
      "metadata": {
        "colab": {
          "base_uri": "https://localhost:8080/"
        },
        "id": "WGNZS_82AWHv",
        "outputId": "54dc4acc-9c32-407c-99da-4fd22cfbe457"
      },
      "execution_count": 100,
      "outputs": [
        {
          "output_type": "stream",
          "name": "stdout",
          "text": [
            "El rendimiento total del portafolio es: $3600\n"
          ]
        }
      ]
    },
    {
      "cell_type": "markdown",
      "source": [
        "###Identificar al Cliente con Mayor Rendimiento\n",
        "La empresa necesita saber qué cliente ha obtenido el mayor rendimiento en términos absolutos."
      ],
      "metadata": {
        "id": "w5LTtr1hBhCy"
      }
    },
    {
      "cell_type": "code",
      "source": [
        "mayor_rendimiento = 0\n",
        "cliente_mayor = \"\"\n",
        "\n",
        "for cliente, datos in portafolio.items():\n",
        "    rendimiento_cliente = (datos[\"monto_invertido\"] * datos[\"rendimiento\"]) / 100\n",
        "\n",
        "    if rendimiento_cliente > mayor_rendimiento:\n",
        "        mayor_rendimiento = rendimiento_cliente\n",
        "        cliente_mayor = cliente\n",
        "\n",
        "print(f\"El cliente que tiene el mayor rendimiento es: {cliente_mayor}, con un valor de: ${mayor_rendimiento:.0f}\")\n"
      ],
      "metadata": {
        "colab": {
          "base_uri": "https://localhost:8080/"
        },
        "id": "NtHqywybBrwz",
        "outputId": "248ebfc7-de83-4d0b-d182-9abeb5079386"
      },
      "execution_count": 101,
      "outputs": [
        {
          "output_type": "stream",
          "name": "stdout",
          "text": [
            "El cliente que tiene el mayor rendimiento es: Ana Gomez, con un valor de: $1350\n"
          ]
        }
      ]
    },
    {
      "cell_type": "markdown",
      "source": [
        "## Parte 4: Modificaciones del Portafolio\n",
        "\n",
        "### Actualizar el Monto Invertido de un Cliente\n"
      ],
      "metadata": {
        "id": "oZX1rl9ECtoQ"
      }
    },
    {
      "cell_type": "code",
      "source": [
        "portafolio[\"Carlos Lopez\"][\"monto_invertido\"] = 25000\n",
        "\n",
        "print(\"Actualización realizada:\")\n",
        "print(\"Carlos Lopez:\", portafolio[\"Carlos Lopez\"])"
      ],
      "metadata": {
        "colab": {
          "base_uri": "https://localhost:8080/"
        },
        "id": "UwGDR5HQC0uE",
        "outputId": "789de0e1-b8eb-46da-cac3-4d378e536d16"
      },
      "execution_count": 102,
      "outputs": [
        {
          "output_type": "stream",
          "name": "stdout",
          "text": [
            "Actualización realizada:\n",
            "Carlos Lopez: {'monto_invertido': 25000, 'rendimiento': 4.0}\n"
          ]
        }
      ]
    },
    {
      "cell_type": "markdown",
      "source": [
        "####Añadir un Nuevo Cliente al Portafolio"
      ],
      "metadata": {
        "id": "MLC0e3v0DmMA"
      }
    },
    {
      "cell_type": "code",
      "source": [
        "portafolio[\"Laura Fernandez\"] = {\"monto_invertido\": 22000, \"rendimiento\": 6.8}\n",
        "\n",
        "print(\"Nueva cliente añadida:\")\n",
        "print(\"Laura Fernandez:\", portafolio[\"Laura Fernandez\"])\n"
      ],
      "metadata": {
        "colab": {
          "base_uri": "https://localhost:8080/"
        },
        "id": "hlXI6TvBDoAt",
        "outputId": "6eb33c56-6fb8-430b-d2fb-be16a974f7ca"
      },
      "execution_count": 103,
      "outputs": [
        {
          "output_type": "stream",
          "name": "stdout",
          "text": [
            "Nueva cliente añadida:\n",
            "Laura Fernandez: {'monto_invertido': 22000, 'rendimiento': 6.8}\n"
          ]
        }
      ]
    },
    {
      "cell_type": "markdown",
      "source": [
        "###Remover a un Cliente del Portafolio\n",
        "\n",
        "\"Ana Gomez\" ha decidido retirar su inversión."
      ],
      "metadata": {
        "id": "4Z3iRyORDyKV"
      }
    },
    {
      "cell_type": "code",
      "source": [
        "cliente_a_remover = input(\"Ingrese el nombre del cliente que desea remover: \")\n",
        "if cliente_a_remover in portafolio:\n",
        "    del portafolio[cliente_a_remover]\n",
        "    print(f\"{cliente_a_remover} ha sido removido/a.\")\n",
        "else:\n",
        "    print(f\"{cliente_a_remover} no existe.\")\n",
        "\n",
        "print(\"\\nPortafolio actualizado:\")\n",
        "for cliente, datos in portafolio.items():\n",
        "    print(f\"{cliente} → Monto: ${datos['monto_invertido']}, Rendimiento: {datos['rendimiento']}%\")\n",
        "\n",
        "\n",
        "\n"
      ],
      "metadata": {
        "colab": {
          "base_uri": "https://localhost:8080/"
        },
        "id": "qFxJKwGOD1c0",
        "outputId": "f473548c-d95e-4d14-ca96-7c2c689f7b07"
      },
      "execution_count": 104,
      "outputs": [
        {
          "output_type": "stream",
          "name": "stdout",
          "text": [
            "Ingrese el nombre del cliente que desea remover: Ana Gomez\n",
            "Ana Gomez ha sido removido/a.\n",
            "\n",
            "Portafolio actualizado:\n",
            "Juan Perez → Monto: $10000, Rendimiento: 5.5%\n",
            "Maria Rodriguez → Monto: $15000, Rendimiento: 6.0%\n",
            "Carlos Lopez → Monto: $25000, Rendimiento: 4.0%\n",
            "Laura Fernandez → Monto: $22000, Rendimiento: 6.8%\n"
          ]
        }
      ]
    }
  ]
}