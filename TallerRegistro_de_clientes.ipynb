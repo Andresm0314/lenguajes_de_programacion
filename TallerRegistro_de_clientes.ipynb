{
  "nbformat": 4,
  "nbformat_minor": 0,
  "metadata": {
    "colab": {
      "provenance": []
    },
    "kernelspec": {
      "name": "python3",
      "display_name": "Python 3"
    },
    "language_info": {
      "name": "python"
    }
  },
  "cells": [
    {
      "cell_type": "markdown",
      "source": [
        "### Descripción\n",
        "En esta aplicación, los estudiantes simularán el registro de clientes para una empresa de inversiones. Usarán listas, tuplas y diccionarios para almacenar y gestionar información básica sobre los clientes, sus inversiones y el rendimiento de estas. El ejercicio no requiere el uso de ciclos o bucles, y cada operación se realizará de forma explícita.\n",
        "\n",
        "## Paso a Paso de la Aplicación\n",
        "**1. Datos Iniciales del Registro de Clientes** Los estudiantes deben crear listas para almacenar la información básica de los clientes, como el nombre, el monto invertido y el rendimiento obtenido."
      ],
      "metadata": {
        "id": "qLVFXwJq7ZeE"
      }
    },
    {
      "cell_type": "code",
      "execution_count": 47,
      "metadata": {
        "colab": {
          "base_uri": "https://localhost:8080/"
        },
        "id": "XT35zR-P7IPf",
        "outputId": "dcdeb602-8a42-44ea-f146-3924b89d4326"
      },
      "outputs": [
        {
          "output_type": "stream",
          "name": "stdout",
          "text": [
            "['Juan Perez', 'Maria Rodriguez', 'Carlos Lopez']\n",
            "[10000, 15000, 20000]\n",
            "[5.0, 6.5, 7.0]\n",
            "clientes <class 'list'>\n",
            "montos invertidos  <class 'list'>\n",
            "rendimientos <class 'list'>\n"
          ]
        }
      ],
      "source": [
        "# Listas para almacenar información de clientes\n",
        "clientes = [\"Juan Perez\", \"Maria Rodriguez\", \"Carlos Lopez\"]\n",
        "montos_invertidos = [10000, 15000, 20000]  # en dólares\n",
        "rendimientos = [5.0, 6.5, 7.0]  # en porcentaje\n",
        "\n",
        "print (clientes)\n",
        "print (montos_invertidos)\n",
        "print (rendimientos)\n",
        "print (\"clientes\", type(clientes))\n",
        "print (\"montos invertidos \", type(montos_invertidos))\n",
        "print (\"rendimientos\", type(rendimientos))\n"
      ]
    },
    {
      "cell_type": "markdown",
      "source": [
        "**2. Crear Tuplas para Cada Cliente** Cada cliente tendrá una tupla que contenga su nombre, el monto invertido y el rendimiento obtenido. Esta información es inmutable."
      ],
      "metadata": {
        "id": "MFrP6LXw8oQ_"
      }
    },
    {
      "cell_type": "code",
      "source": [
        "cliente1 = (\"Juan Perez\", 10000, 5.0)\n",
        "cliente2 = (\"Maria Rodriguez\", 15000, 6.5)\n",
        "cliente3 = (\"Carlos Lopez\", 20000, 7.0)\n",
        "\n",
        "print (cliente1)\n",
        "print (cliente2)\n",
        "print (cliente3)\n",
        "print (\"\\n\")\n",
        "print (\"cliente1\", type(cliente1))\n",
        "print (\"cliente2\", type(cliente2))\n",
        "print (\"cliente3\", type(cliente3))\n"
      ],
      "metadata": {
        "colab": {
          "base_uri": "https://localhost:8080/"
        },
        "id": "rHegqg9WrRXg",
        "outputId": "a9ffd1ab-e53f-4222-ba57-fba880960778"
      },
      "execution_count": 48,
      "outputs": [
        {
          "output_type": "stream",
          "name": "stdout",
          "text": [
            "('Juan Perez', 10000, 5.0)\n",
            "('Maria Rodriguez', 15000, 6.5)\n",
            "('Carlos Lopez', 20000, 7.0)\n",
            "\n",
            "\n",
            "cliente1 <class 'tuple'>\n",
            "cliente2 <class 'tuple'>\n",
            "cliente3 <class 'tuple'>\n"
          ]
        }
      ]
    },
    {
      "cell_type": "markdown",
      "source": [
        "**3.Organizar los Datos en un Diccionario** Crear un diccionario llamado registro_clientes donde cada clave sea el nombre de un cliente y el valor sea un diccionario con detalles del monto invertido y el rendimiento.\n"
      ],
      "metadata": {
        "id": "uR8WWOuGt5ml"
      }
    },
    {
      "cell_type": "code",
      "source": [
        "registro_clientes = {\n",
        "    \"Juan Perez\": {\n",
        "        \"monto_invertido\": 10000,\n",
        "        \"rendimiento\": 5.0\n",
        "    },\n",
        "    \"Maria Rodriguez\": {\n",
        "        \"monto_invertido\": 15000,\n",
        "        \"rendimiento\": 6.5\n",
        "    },\n",
        "    \"Carlos Lopez\": {\n",
        "        \"monto_invertido\": 20000,\n",
        "        \"rendimiento\": 7.0\n",
        "    }\n",
        "}\n",
        "\n",
        "\n",
        "print(registro_clientes)\n",
        "print (\"\\n\")\n",
        "print (\"registro_clientes\", type(registro_clientes))\n"
      ],
      "metadata": {
        "colab": {
          "base_uri": "https://localhost:8080/"
        },
        "id": "hy3AK-T0uC7a",
        "outputId": "d2ce185c-6c1c-4937-b51f-cfc132459df5"
      },
      "execution_count": 49,
      "outputs": [
        {
          "output_type": "stream",
          "name": "stdout",
          "text": [
            "{'Juan Perez': {'monto_invertido': 10000, 'rendimiento': 5.0}, 'Maria Rodriguez': {'monto_invertido': 15000, 'rendimiento': 6.5}, 'Carlos Lopez': {'monto_invertido': 20000, 'rendimiento': 7.0}}\n",
            "\n",
            "\n",
            "registro_clientes <class 'dict'>\n"
          ]
        }
      ]
    },
    {
      "cell_type": "markdown",
      "source": [
        "**4.Calcular el Rendimiento Total de un Cliente** Usando el diccionario registro_clientes, los estudiantes calcularán el rendimiento total (en dólares) de un cliente específico, por ejemplo, \"Maria Rodriguez\"."
      ],
      "metadata": {
        "id": "xo4pC7Hwzf4M"
      }
    },
    {
      "cell_type": "code",
      "source": [
        "monto_invertido = registro_clientes[\"Maria Rodriguez\"][\"monto_invertido\"]\n",
        "rendimiento = registro_clientes[\"Maria Rodriguez\"][\"rendimiento\"]\n",
        "\n",
        "\n",
        "rendimiento_total_dolares = (monto_invertido * rendimiento) / 100\n",
        "\n",
        "\n",
        "print(f\"El rendimiento total en dólares de Maria Rodriguez es: {rendimiento_total_dolares} USD\")"
      ],
      "metadata": {
        "colab": {
          "base_uri": "https://localhost:8080/"
        },
        "id": "5eHwlCFHzj2A",
        "outputId": "f377b65e-ee90-4b84-fe3e-b02d95b8bee8"
      },
      "execution_count": 50,
      "outputs": [
        {
          "output_type": "stream",
          "name": "stdout",
          "text": [
            "El rendimiento total en dólares de Maria Rodriguez es: 975.0 USD\n"
          ]
        }
      ]
    },
    {
      "cell_type": "markdown",
      "source": [
        "**5.Actualizar el Monto Invertido de un Cliente** Los estudiantes deben actualizar el monto_invertido de \"Carlos Lopez\" en el diccionario registro_clientes a un nuevo valor (por ejemplo, 25000)."
      ],
      "metadata": {
        "id": "OMPcwJ1-0vE0"
      }
    },
    {
      "cell_type": "code",
      "source": [
        "\n",
        "registro_clientes[\"Carlos Lopez\"][\"monto_invertido\"] = 25000\n",
        "\n",
        "\n",
        "print(registro_clientes)\n",
        "print (\"\\n\")\n",
        "print (\"registro_clientes\", type(registro_clientes))\n",
        "\n",
        "\n"
      ],
      "metadata": {
        "colab": {
          "base_uri": "https://localhost:8080/"
        },
        "id": "SIR25jho0y2i",
        "outputId": "65c325fa-133f-42fb-b44d-c91aa9ed2ce4"
      },
      "execution_count": 51,
      "outputs": [
        {
          "output_type": "stream",
          "name": "stdout",
          "text": [
            "{'Juan Perez': {'monto_invertido': 10000, 'rendimiento': 5.0}, 'Maria Rodriguez': {'monto_invertido': 15000, 'rendimiento': 6.5}, 'Carlos Lopez': {'monto_invertido': 25000, 'rendimiento': 7.0}}\n",
            "\n",
            "\n",
            "registro_clientes <class 'dict'>\n"
          ]
        }
      ]
    },
    {
      "cell_type": "markdown",
      "source": [
        "**6.Añadir un Nuevo Cliente al Registro** Añadir un nuevo cliente llamado \"Ana Gomez\" al diccionario registro_clientes con un monto_invertido de 18000 y un rendimiento de 5.8%."
      ],
      "metadata": {
        "id": "JKxD7DGy2S5m"
      }
    },
    {
      "cell_type": "code",
      "source": [
        "registro_clientes[\"Ana Gomez\"] = {\n",
        "    \"monto_invertido\": 18000,\n",
        "    \"rendimiento\": 5.8\n",
        "}\n",
        "print(registro_clientes)\n",
        "print (\"\\n\")\n",
        "print (\"registro_clientes\", type(registro_clientes))"
      ],
      "metadata": {
        "colab": {
          "base_uri": "https://localhost:8080/"
        },
        "id": "XMPCQEzT2Tld",
        "outputId": "a5c68a86-697f-4ea7-e9c4-a4de5317315a"
      },
      "execution_count": 52,
      "outputs": [
        {
          "output_type": "stream",
          "name": "stdout",
          "text": [
            "{'Juan Perez': {'monto_invertido': 10000, 'rendimiento': 5.0}, 'Maria Rodriguez': {'monto_invertido': 15000, 'rendimiento': 6.5}, 'Carlos Lopez': {'monto_invertido': 25000, 'rendimiento': 7.0}, 'Ana Gomez': {'monto_invertido': 18000, 'rendimiento': 5.8}}\n",
            "\n",
            "\n",
            "registro_clientes <class 'dict'>\n"
          ]
        }
      ]
    },
    {
      "cell_type": "markdown",
      "source": [
        "** 7.Remover un Cliente del Registro** Remover al cliente \"Juan Perez\" del diccionario registro_clientes."
      ],
      "metadata": {
        "id": "o8TzTMEY4kO-"
      }
    },
    {
      "cell_type": "code",
      "source": [
        "del registro_clientes[\"Juan Perez\"]\n",
        "\n",
        "print(registro_clientes)\n",
        "print (\"\\n\")\n",
        "print (\"registro_clientes\", type(registro_clientes))"
      ],
      "metadata": {
        "colab": {
          "base_uri": "https://localhost:8080/"
        },
        "id": "4pc-d9K44YTb",
        "outputId": "6d4a6dd3-82ac-4977-fe31-605890e970f3"
      },
      "execution_count": 53,
      "outputs": [
        {
          "output_type": "stream",
          "name": "stdout",
          "text": [
            "{'Maria Rodriguez': {'monto_invertido': 15000, 'rendimiento': 6.5}, 'Carlos Lopez': {'monto_invertido': 25000, 'rendimiento': 7.0}, 'Ana Gomez': {'monto_invertido': 18000, 'rendimiento': 5.8}}\n",
            "\n",
            "\n",
            "registro_clientes <class 'dict'>\n"
          ]
        }
      ]
    }
  ]
}