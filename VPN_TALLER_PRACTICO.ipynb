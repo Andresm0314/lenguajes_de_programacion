{
  "nbformat": 4,
  "nbformat_minor": 0,
  "metadata": {
    "colab": {
      "provenance": []
    },
    "kernelspec": {
      "name": "python3",
      "display_name": "Python 3"
    },
    "language_info": {
      "name": "python"
    }
  },
  "cells": [
    {
      "cell_type": "markdown",
      "source": [
        "## VALOR PRESENTE NETO\n",
        "\n",
        "El Valor Presente Neto (VPN) es una herramienta financiera fundamental que se utiliza para evaluar la viabilidad de una inversión o proyecto. En términos simples, representa la diferencia entre el valor presente de los flujos de efectivo que generará un proyecto y el costo inicial de la inversión. En otras palabras, el VPN calcula si un proyecto generará más valor del que cuesta realizarlo, considerando el valor temporal del dinero mediante la aplicación de una tasa de descuento. Un VPN positivo indica que el proyecto puede ser rentable, mientras que uno negativo sugiere que podría no ser viable en términos financieros."
      ],
      "metadata": {
        "id": "NOMMrKhlisu8"
      }
    },
    {
      "cell_type": "markdown",
      "source": [
        " ## FORMULA\n",
        "\n",
        "$$ VPN = \\sum_{t=0}^{n} (\\frac{C_t}{(1 + r)^t} )- C_0 $$"
      ],
      "metadata": {
        "id": "d_ct0LK8i35P"
      }
    },
    {
      "cell_type": "markdown",
      "source": [
        "Donde:  \n",
        "\n",
        "- $F_t$  Ft es el flujo de caja en el periodo $t$t.\n",
        "- $r$r es la tasa de descuento.\n",
        "- $C_0$ es la inversión inicial.\n",
        "\n"
      ],
      "metadata": {
        "id": "TnlklhkCmY4x"
      }
    },
    {
      "cell_type": "markdown",
      "source": [
        "## Ejemplo:\n",
        "\n",
        "Supongamos que la empresa está considerando un proyecto con una inversión inicial de \\$10,000 y espera recibir flujos de caja de \\$3,000 en cada uno de los próximos tres años. La tasa de descuento es del 5\\%.\n"
      ],
      "metadata": {
        "id": "QuJUK3fgnb0I"
      }
    },
    {
      "cell_type": "markdown",
      "source": [
        "### Declaración de Variables:\n",
        "- Empieza por declarar las variables que usarás en el cálculo del $VPN$:"
      ],
      "metadata": {
        "id": "KqWePDldrrTS"
      }
    },
    {
      "cell_type": "code",
      "source": [
        "Inversion_inicial = 10000\n",
        "flujos_ano_1 = 3000\n",
        "flujos_ano_2 = 3000\n",
        "flujos_ano_3 = 3000\n",
        "tasa_de_descuento = 0.05\n",
        "\n"
      ],
      "metadata": {
        "id": "FdsH5rtsnk0E"
      },
      "execution_count": null,
      "outputs": []
    },
    {
      "cell_type": "markdown",
      "source": [
        "### Cálculo del VPN\n",
        " - Usa las variables declaradas para calcular el VPN del proyecto:"
      ],
      "metadata": {
        "id": "5knzDTZgr6Fp"
      }
    },
    {
      "cell_type": "code",
      "source": [
        "VPN = ((flujos_ano_1 / (1 + tasa_de_descuento)**1) + (flujos_ano_2 / (1 + tasa_de_descuento)**2) + (flujos_ano_3 / (1 + tasa_de_descuento)**3) - Inversion_inicial)\n",
        "\n",
        "print (\"El Valor Presente Neto (VPN) es : \", VPN)"
      ],
      "metadata": {
        "colab": {
          "base_uri": "https://localhost:8080/"
        },
        "id": "DAkOnc-dsA61",
        "outputId": "e433664f-d197-4ac4-95fd-c5ceda1f0de8"
      },
      "execution_count": null,
      "outputs": [
        {
          "output_type": "stream",
          "name": "stdout",
          "text": [
            "El Valor Presente Neto (VPN) es :  -1830.2559118885656\n"
          ]
        }
      ]
    },
    {
      "cell_type": "markdown",
      "source": [
        "### Interpretación del Resultado:\n",
        "\n",
        "#### Una vez realizado el cálculo, interpreta el resultado del VPN para determinar la viabilidad del proyecto\n",
        "\n",
        "- Si el valor impreso de vpn es POSITIVO, escribe  que el proyecto es viable\n",
        "- Si es negativo, indica que el proyecto no es viable .\n"
      ],
      "metadata": {
        "id": "GeqGq75csBhf"
      }
    },
    {
      "cell_type": "code",
      "source": [
        "if VPN > 0 :\n",
        "  print ( \" El proyecto es viable, ya que VPN es Positivo\")\n",
        "else :\n",
        "  print ( \" El proyecto no es viable, ya que el VPN es Negativo\")"
      ],
      "metadata": {
        "colab": {
          "base_uri": "https://localhost:8080/"
        },
        "id": "2jhb06RZpihu",
        "outputId": "048acb90-edd5-44d4-8638-37afe325d81c"
      },
      "execution_count": null,
      "outputs": [
        {
          "output_type": "stream",
          "name": "stdout",
          "text": [
            " El proyecto no es viable, ya que el VPN es Negativo\n"
          ]
        }
      ]
    },
    {
      "cell_type": "markdown",
      "source": [],
      "metadata": {
        "id": "zmSb2D10piHr"
      }
    },
    {
      "cell_type": "markdown",
      "source": [
        "[LINK CONSULTA](https://blog.hubspot.es/sales/que-es-valor-presente-neto)"
      ],
      "metadata": {
        "id": "3JeZXwThjPUa"
      }
    },
    {
      "cell_type": "code",
      "source": [],
      "metadata": {
        "id": "lHPZb2FnjjfK"
      },
      "execution_count": null,
      "outputs": []
    }
  ]
}